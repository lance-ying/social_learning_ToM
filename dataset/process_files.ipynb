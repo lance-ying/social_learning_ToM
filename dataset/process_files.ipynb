{
 "cells": [
  {
   "cell_type": "code",
   "execution_count": 1,
   "id": "e30aab20",
   "metadata": {},
   "outputs": [],
   "source": [
    "import os\n",
    "\n",
    "directory = \"/Users/lance/Documents/GitHub/ObserveMove/dataset/problems_exp2\"\n",
    "\n",
    "for filename in os.listdir(directory):\n",
    "    if filename.endswith(\".txt\"):\n",
    "        filepath = os.path.join(directory, filename)\n",
    "        with open(filepath, \"r\") as f:\n",
    "            lines = f.readlines()\n",
    "        # Remove the last line\n",
    "        lines = lines[:-1]\n",
    "        # Remove \"old_\" from filename\n",
    "        new_filename = filename.replace(\"old_\", \"\")\n",
    "        new_filepath = os.path.join(directory, new_filename)\n",
    "        with open(new_filepath, \"w\") as f:\n",
    "            f.writelines(lines)\n",
    "        # Optionally, remove the old file if the name changed\n",
    "        if new_filepath != filepath:\n",
    "            os.remove(filepath)"
   ]
  },
  {
   "cell_type": "code",
   "execution_count": 20,
   "id": "0b229b7d",
   "metadata": {},
   "outputs": [
    {
     "name": "stdout",
     "output_type": "stream",
     "text": [
      "Processing file: /Users/lance/Documents/GitHub/ObserveMove/dataset/problems_exp2/s211.pddl\n",
      "Processing file: /Users/lance/Documents/GitHub/ObserveMove/dataset/problems_exp2/s342.pddl\n",
      "Processing file: /Users/lance/Documents/GitHub/ObserveMove/dataset/problems_exp2/s342.txt\n",
      "Processing file: /Users/lance/Documents/GitHub/ObserveMove/dataset/problems_exp2/s431.txt\n",
      "Processing file: /Users/lance/Documents/GitHub/ObserveMove/dataset/problems_exp2/s221.txt\n",
      "Processing file: /Users/lance/Documents/GitHub/ObserveMove/dataset/problems_exp2/s421.pddl\n",
      "Processing file: /Users/lance/Documents/GitHub/ObserveMove/dataset/problems_exp2/s341.txt\n",
      "Processing file: /Users/lance/Documents/GitHub/ObserveMove/dataset/problems_exp2/s432.txt\n",
      "Processing file: /Users/lance/Documents/GitHub/ObserveMove/dataset/problems_exp2/s542.txt\n",
      "Processing file: /Users/lance/Documents/GitHub/ObserveMove/dataset/problems_exp2/s532.pddl\n",
      "Processing file: /Users/lance/Documents/GitHub/ObserveMove/dataset/problems_exp2/s543.txt\n",
      "Processing file: /Users/lance/Documents/GitHub/ObserveMove/dataset/problems_exp2/s541.txt\n",
      "Processing file: /Users/lance/Documents/GitHub/ObserveMove/dataset/problems_exp2/s441.pddl\n",
      "Processing file: /Users/lance/Documents/GitHub/ObserveMove/dataset/problems_exp2/s421.txt\n",
      "Processing file: /Users/lance/Documents/GitHub/ObserveMove/dataset/problems_exp2/s521..txt\n",
      "Processing file: /Users/lance/Documents/GitHub/ObserveMove/dataset/problems_exp2/s431.pddl\n",
      "Processing file: /Users/lance/Documents/GitHub/ObserveMove/dataset/problems_exp2/s321.txt\n",
      "Processing file: /Users/lance/Documents/GitHub/ObserveMove/dataset/problems_exp2/s221.pddl\n",
      "Processing file: /Users/lance/Documents/GitHub/ObserveMove/dataset/problems_exp2/s532.txt\n",
      "Processing file: /Users/lance/Documents/GitHub/ObserveMove/dataset/problems_exp2/s411.pddl\n",
      "Processing file: /Users/lance/Documents/GitHub/ObserveMove/dataset/problems_exp2/s542.pddl\n",
      "Processing file: /Users/lance/Documents/GitHub/ObserveMove/dataset/problems_exp2/s531.txt\n",
      "Processing file: /Users/lance/Documents/GitHub/ObserveMove/dataset/problems_exp2/s543.pddl\n",
      "Processing file: /Users/lance/Documents/GitHub/ObserveMove/dataset/problems_exp2/s441.txt\n",
      "Processing file: /Users/lance/Documents/GitHub/ObserveMove/dataset/problems_exp2/s351..txt\n",
      "Processing file: /Users/lance/Documents/GitHub/ObserveMove/dataset/problems_exp2/s442.txt\n",
      "Processing file: /Users/lance/Documents/GitHub/ObserveMove/dataset/problems_exp2/s331.txt\n",
      "Processing file: /Users/lance/Documents/GitHub/ObserveMove/dataset/problems_exp2/s331.pddl\n",
      "Processing file: /Users/lance/Documents/GitHub/ObserveMove/dataset/problems_exp2/s511.txt\n",
      "Processing file: /Users/lance/Documents/GitHub/ObserveMove/dataset/problems_exp2/s311.pddl\n",
      "Processing file: /Users/lance/Documents/GitHub/ObserveMove/dataset/problems_exp2/s332..pddl\n",
      "Processing file: /Users/lance/Documents/GitHub/ObserveMove/dataset/problems_exp2/s541.pddl\n",
      "Processing file: /Users/lance/Documents/GitHub/ObserveMove/dataset/problems_exp2/s432.pddl\n",
      "Processing file: /Users/lance/Documents/GitHub/ObserveMove/dataset/problems_exp2/s311.txt\n",
      "Processing file: /Users/lance/Documents/GitHub/ObserveMove/dataset/problems_exp2/s351..pddl\n",
      "Processing file: /Users/lance/Documents/GitHub/ObserveMove/dataset/problems_exp2/s332..txt\n",
      "Processing file: /Users/lance/Documents/GitHub/ObserveMove/dataset/problems_exp2/s371.pddl\n",
      "Processing file: /Users/lance/Documents/GitHub/ObserveMove/dataset/problems_exp2/s511.pddl\n",
      "Processing file: /Users/lance/Documents/GitHub/ObserveMove/dataset/problems_exp2/s442.pddl\n",
      "Processing file: /Users/lance/Documents/GitHub/ObserveMove/dataset/problems_exp2/s544..txt\n",
      "Processing file: /Users/lance/Documents/GitHub/ObserveMove/dataset/problems_exp2/s411.txt\n",
      "Processing file: /Users/lance/Documents/GitHub/ObserveMove/dataset/problems_exp2/s321.pddl\n",
      "Processing file: /Users/lance/Documents/GitHub/ObserveMove/dataset/problems_exp2/s521..pddl\n",
      "Processing file: /Users/lance/Documents/GitHub/ObserveMove/dataset/problems_exp2/s361.txt\n",
      "Processing file: /Users/lance/Documents/GitHub/ObserveMove/dataset/problems_exp2/s531.pddl\n",
      "Processing file: /Users/lance/Documents/GitHub/ObserveMove/dataset/problems_exp2/s211.txt\n",
      "Processing file: /Users/lance/Documents/GitHub/ObserveMove/dataset/problems_exp2/s544..pddl\n",
      "Processing file: /Users/lance/Documents/GitHub/ObserveMove/dataset/problems_exp2/s371.txt\n",
      "Processing file: /Users/lance/Documents/GitHub/ObserveMove/dataset/problems_exp2/s361.pddl\n",
      "Processing file: /Users/lance/Documents/GitHub/ObserveMove/dataset/problems_exp2/s341.pddl\n"
     ]
    }
   ],
   "source": [
    "exp1_directory = \"/Users/lance/Documents/GitHub/ObserveMove/dataset/problems_exp2\"\n",
    "\n",
    "for filename in os.listdir(exp1_directory):\n",
    "    if filename.endswith(\".txt\") or filename.endswith(\".pddl\"):\n",
    "        filepath = os.path.join(exp1_directory, filename)\n",
    "        print(f\"Processing file: {filepath}\")\n",
    "        with open(filepath, \"r\") as f:\n",
    "            lines = f.readlines()\n",
    "        # Remove \"mod_\" from filename and replace \"ascii_plan\" with \"plan\"\n",
    "        new_filename = filename.replace(\"mod_\", \"\").replace(\"_ascii\", \"\").replace(\"..\", \".\")\n",
    "        new_filepath = os.path.join(exp1_directory, new_filename)\n",
    "        with open(new_filepath, \"w\") as f:\n",
    "            f.writelines(lines)\n",
    "        # Optionally, remove the old file if the name changed\n",
    "        if new_filepath != filepath:\n",
    "            os.remove(filepath)"
   ]
  },
  {
   "cell_type": "code",
   "execution_count": null,
   "id": "a917645e",
   "metadata": {},
   "outputs": [],
   "source": []
  }
 ],
 "metadata": {
  "kernelspec": {
   "display_name": "base",
   "language": "python",
   "name": "python3"
  },
  "language_info": {
   "codemirror_mode": {
    "name": "ipython",
    "version": 3
   },
   "file_extension": ".py",
   "mimetype": "text/x-python",
   "name": "python",
   "nbconvert_exporter": "python",
   "pygments_lexer": "ipython3",
   "version": "3.11.3"
  }
 },
 "nbformat": 4,
 "nbformat_minor": 5
}
